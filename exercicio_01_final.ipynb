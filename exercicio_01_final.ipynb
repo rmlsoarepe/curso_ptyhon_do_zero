{
  "nbformat": 4,
  "nbformat_minor": 0,
  "metadata": {
    "colab": {
      "name": "exercicio_01.ipynb",
      "provenance": [],
      "toc_visible": true,
      "authorship_tag": "ABX9TyPeFuf9FsQRWq7BrXhdDUIs",
      "include_colab_link": true
    },
    "kernelspec": {
      "name": "python3",
      "display_name": "Python 3"
    }
  },
  "cells": [
    {
      "cell_type": "markdown",
      "metadata": {
        "id": "view-in-github",
        "colab_type": "text"
      },
      "source": [
        "<a href=\"https://colab.research.google.com/github/rmlsoarepe/curso_ptyhon_do_zero/blob/master/exercicio_01_final.ipynb\" target=\"_parent\"><img src=\"https://colab.research.google.com/assets/colab-badge.svg\" alt=\"Open In Colab\"/></a>"
      ]
    },
    {
      "cell_type": "markdown",
      "metadata": {
        "id": "5oN16uaYSFj6"
      },
      "source": [
        "# Imports\r\n"
      ]
    },
    {
      "cell_type": "code",
      "metadata": {
        "id": "Dyny4msMSf_U"
      },
      "source": [
        "import pandas as pd"
      ],
      "execution_count": null,
      "outputs": []
    },
    {
      "cell_type": "markdown",
      "metadata": {
        "id": "w098FandSbUo"
      },
      "source": [
        "# Loading Files"
      ]
    },
    {
      "cell_type": "code",
      "metadata": {
        "id": "bhc5laFU45In"
      },
      "source": [
        "df = pd.read_csv ('/content/sample_data/kc_house_data.csv')\r\n"
      ],
      "execution_count": null,
      "outputs": []
    },
    {
      "cell_type": "markdown",
      "metadata": {
        "id": "w7DZLAgOTlBp"
      },
      "source": [
        "# Anserwering Questions"
      ]
    },
    {
      "cell_type": "markdown",
      "metadata": {
        "id": "e5tTdevjTyfw"
      },
      "source": [
        "## 1. Quantas casas estão disponíveis para compra?\r\n",
        " R: 21.613 casas"
      ]
    },
    {
      "cell_type": "code",
      "metadata": {
        "colab": {
          "base_uri": "https://localhost:8080/"
        },
        "id": "r7yn90fxT4AP",
        "outputId": "5298b3c4-fa2a-4e94-92cf-79a4e7ea6def"
      },
      "source": [
        "df.shape[0]"
      ],
      "execution_count": null,
      "outputs": [
        {
          "output_type": "execute_result",
          "data": {
            "text/plain": [
              "21613"
            ]
          },
          "metadata": {
            "tags": []
          },
          "execution_count": 21
        }
      ]
    },
    {
      "cell_type": "markdown",
      "metadata": {
        "id": "Vjvlx0A9USNO"
      },
      "source": [
        "## 2. Quantos atributos as casas possuem?\r\n",
        " R:16 atributos"
      ]
    },
    {
      "cell_type": "code",
      "metadata": {
        "colab": {
          "base_uri": "https://localhost:8080/"
        },
        "id": "lYJ6mrY1UlT-",
        "outputId": "90212679-805a-4383-fad3-e5970352044c"
      },
      "source": [
        "df.shape[1]"
      ],
      "execution_count": null,
      "outputs": [
        {
          "output_type": "execute_result",
          "data": {
            "text/plain": [
              "21"
            ]
          },
          "metadata": {
            "tags": []
          },
          "execution_count": 22
        }
      ]
    },
    {
      "cell_type": "markdown",
      "metadata": {
        "id": "XVGmvitLVY_A"
      },
      "source": [
        "## 3. Quais são os atributos das casas?\r\n",
        " R: bedrooms, bathrooms, sqft_living, sqft_lot, floors,waterfront, view, condition ,grade, sqft_above,sqft_basement, yr_built, yr_renovated, zipcode, sqft_living15, sqft_lot15"
      ]
    },
    {
      "cell_type": "code",
      "metadata": {
        "colab": {
          "base_uri": "https://localhost:8080/"
        },
        "id": "pSWTnXM_Vgvh",
        "outputId": "a4c3b2a4-a330-452b-f2f9-1feb84b1e5c9"
      },
      "source": [
        "df.columns"
      ],
      "execution_count": null,
      "outputs": [
        {
          "output_type": "execute_result",
          "data": {
            "text/plain": [
              "Index(['id', 'date', 'price', 'bedrooms', 'bathrooms', 'sqft_living',\n",
              "       'sqft_lot', 'floors', 'waterfront', 'view', 'condition', 'grade',\n",
              "       'sqft_above', 'sqft_basement', 'yr_built', 'yr_renovated', 'zipcode',\n",
              "       'lat', 'long', 'sqft_living15', 'sqft_lot15'],\n",
              "      dtype='object')"
            ]
          },
          "metadata": {
            "tags": []
          },
          "execution_count": 8
        }
      ]
    },
    {
      "cell_type": "markdown",
      "metadata": {
        "id": "WiDf7KKlbVFB"
      },
      "source": [
        "## 4. Qual a casa mais cara (casa com o maior valor de venda)\r\n",
        "R: Casa com o ID:6762700020\r\n",
        "\r\n",
        "---\r\n",
        "\r\n"
      ]
    },
    {
      "cell_type": "code",
      "metadata": {
        "colab": {
          "base_uri": "https://localhost:8080/",
          "height": 439
        },
        "id": "4RnQKD5CbbJf",
        "outputId": "cac1f8f2-3840-4ed4-b198-39a7f94dd1fd"
      },
      "source": [
        "df.sort_values ('price',ascending=False)"
      ],
      "execution_count": null,
      "outputs": [
        {
          "output_type": "execute_result",
          "data": {
            "text/html": [
              "<div>\n",
              "<style scoped>\n",
              "    .dataframe tbody tr th:only-of-type {\n",
              "        vertical-align: middle;\n",
              "    }\n",
              "\n",
              "    .dataframe tbody tr th {\n",
              "        vertical-align: top;\n",
              "    }\n",
              "\n",
              "    .dataframe thead th {\n",
              "        text-align: right;\n",
              "    }\n",
              "</style>\n",
              "<table border=\"1\" class=\"dataframe\">\n",
              "  <thead>\n",
              "    <tr style=\"text-align: right;\">\n",
              "      <th></th>\n",
              "      <th>id</th>\n",
              "      <th>date</th>\n",
              "      <th>price</th>\n",
              "      <th>bedrooms</th>\n",
              "      <th>bathrooms</th>\n",
              "      <th>sqft_living</th>\n",
              "      <th>sqft_lot</th>\n",
              "      <th>floors</th>\n",
              "      <th>waterfront</th>\n",
              "      <th>view</th>\n",
              "      <th>condition</th>\n",
              "      <th>grade</th>\n",
              "      <th>sqft_above</th>\n",
              "      <th>sqft_basement</th>\n",
              "      <th>yr_built</th>\n",
              "      <th>yr_renovated</th>\n",
              "      <th>zipcode</th>\n",
              "      <th>lat</th>\n",
              "      <th>long</th>\n",
              "      <th>sqft_living15</th>\n",
              "      <th>sqft_lot15</th>\n",
              "    </tr>\n",
              "  </thead>\n",
              "  <tbody>\n",
              "    <tr>\n",
              "      <th>7252</th>\n",
              "      <td>6762700020</td>\n",
              "      <td>20141013T000000</td>\n",
              "      <td>7700000.0</td>\n",
              "      <td>6</td>\n",
              "      <td>8.00</td>\n",
              "      <td>12050</td>\n",
              "      <td>27600</td>\n",
              "      <td>2.5</td>\n",
              "      <td>0</td>\n",
              "      <td>3</td>\n",
              "      <td>4</td>\n",
              "      <td>13</td>\n",
              "      <td>8570</td>\n",
              "      <td>3480</td>\n",
              "      <td>1910</td>\n",
              "      <td>1987</td>\n",
              "      <td>98102</td>\n",
              "      <td>47.6298</td>\n",
              "      <td>-122.323</td>\n",
              "      <td>3940</td>\n",
              "      <td>8800</td>\n",
              "    </tr>\n",
              "    <tr>\n",
              "      <th>3914</th>\n",
              "      <td>9808700762</td>\n",
              "      <td>20140611T000000</td>\n",
              "      <td>7062500.0</td>\n",
              "      <td>5</td>\n",
              "      <td>4.50</td>\n",
              "      <td>10040</td>\n",
              "      <td>37325</td>\n",
              "      <td>2.0</td>\n",
              "      <td>1</td>\n",
              "      <td>2</td>\n",
              "      <td>3</td>\n",
              "      <td>11</td>\n",
              "      <td>7680</td>\n",
              "      <td>2360</td>\n",
              "      <td>1940</td>\n",
              "      <td>2001</td>\n",
              "      <td>98004</td>\n",
              "      <td>47.6500</td>\n",
              "      <td>-122.214</td>\n",
              "      <td>3930</td>\n",
              "      <td>25449</td>\n",
              "    </tr>\n",
              "    <tr>\n",
              "      <th>9254</th>\n",
              "      <td>9208900037</td>\n",
              "      <td>20140919T000000</td>\n",
              "      <td>6885000.0</td>\n",
              "      <td>6</td>\n",
              "      <td>7.75</td>\n",
              "      <td>9890</td>\n",
              "      <td>31374</td>\n",
              "      <td>2.0</td>\n",
              "      <td>0</td>\n",
              "      <td>4</td>\n",
              "      <td>3</td>\n",
              "      <td>13</td>\n",
              "      <td>8860</td>\n",
              "      <td>1030</td>\n",
              "      <td>2001</td>\n",
              "      <td>0</td>\n",
              "      <td>98039</td>\n",
              "      <td>47.6305</td>\n",
              "      <td>-122.240</td>\n",
              "      <td>4540</td>\n",
              "      <td>42730</td>\n",
              "    </tr>\n",
              "    <tr>\n",
              "      <th>4411</th>\n",
              "      <td>2470100110</td>\n",
              "      <td>20140804T000000</td>\n",
              "      <td>5570000.0</td>\n",
              "      <td>5</td>\n",
              "      <td>5.75</td>\n",
              "      <td>9200</td>\n",
              "      <td>35069</td>\n",
              "      <td>2.0</td>\n",
              "      <td>0</td>\n",
              "      <td>0</td>\n",
              "      <td>3</td>\n",
              "      <td>13</td>\n",
              "      <td>6200</td>\n",
              "      <td>3000</td>\n",
              "      <td>2001</td>\n",
              "      <td>0</td>\n",
              "      <td>98039</td>\n",
              "      <td>47.6289</td>\n",
              "      <td>-122.233</td>\n",
              "      <td>3560</td>\n",
              "      <td>24345</td>\n",
              "    </tr>\n",
              "    <tr>\n",
              "      <th>1448</th>\n",
              "      <td>8907500070</td>\n",
              "      <td>20150413T000000</td>\n",
              "      <td>5350000.0</td>\n",
              "      <td>5</td>\n",
              "      <td>5.00</td>\n",
              "      <td>8000</td>\n",
              "      <td>23985</td>\n",
              "      <td>2.0</td>\n",
              "      <td>0</td>\n",
              "      <td>4</td>\n",
              "      <td>3</td>\n",
              "      <td>12</td>\n",
              "      <td>6720</td>\n",
              "      <td>1280</td>\n",
              "      <td>2009</td>\n",
              "      <td>0</td>\n",
              "      <td>98004</td>\n",
              "      <td>47.6232</td>\n",
              "      <td>-122.220</td>\n",
              "      <td>4600</td>\n",
              "      <td>21750</td>\n",
              "    </tr>\n",
              "    <tr>\n",
              "      <th>...</th>\n",
              "      <td>...</td>\n",
              "      <td>...</td>\n",
              "      <td>...</td>\n",
              "      <td>...</td>\n",
              "      <td>...</td>\n",
              "      <td>...</td>\n",
              "      <td>...</td>\n",
              "      <td>...</td>\n",
              "      <td>...</td>\n",
              "      <td>...</td>\n",
              "      <td>...</td>\n",
              "      <td>...</td>\n",
              "      <td>...</td>\n",
              "      <td>...</td>\n",
              "      <td>...</td>\n",
              "      <td>...</td>\n",
              "      <td>...</td>\n",
              "      <td>...</td>\n",
              "      <td>...</td>\n",
              "      <td>...</td>\n",
              "      <td>...</td>\n",
              "    </tr>\n",
              "    <tr>\n",
              "      <th>8274</th>\n",
              "      <td>3883800011</td>\n",
              "      <td>20141105T000000</td>\n",
              "      <td>82000.0</td>\n",
              "      <td>3</td>\n",
              "      <td>1.00</td>\n",
              "      <td>860</td>\n",
              "      <td>10426</td>\n",
              "      <td>1.0</td>\n",
              "      <td>0</td>\n",
              "      <td>0</td>\n",
              "      <td>3</td>\n",
              "      <td>6</td>\n",
              "      <td>860</td>\n",
              "      <td>0</td>\n",
              "      <td>1954</td>\n",
              "      <td>0</td>\n",
              "      <td>98146</td>\n",
              "      <td>47.4987</td>\n",
              "      <td>-122.341</td>\n",
              "      <td>1140</td>\n",
              "      <td>11250</td>\n",
              "    </tr>\n",
              "    <tr>\n",
              "      <th>16198</th>\n",
              "      <td>3028200080</td>\n",
              "      <td>20150324T000000</td>\n",
              "      <td>81000.0</td>\n",
              "      <td>2</td>\n",
              "      <td>1.00</td>\n",
              "      <td>730</td>\n",
              "      <td>9975</td>\n",
              "      <td>1.0</td>\n",
              "      <td>0</td>\n",
              "      <td>0</td>\n",
              "      <td>1</td>\n",
              "      <td>5</td>\n",
              "      <td>730</td>\n",
              "      <td>0</td>\n",
              "      <td>1943</td>\n",
              "      <td>0</td>\n",
              "      <td>98168</td>\n",
              "      <td>47.4808</td>\n",
              "      <td>-122.315</td>\n",
              "      <td>860</td>\n",
              "      <td>9000</td>\n",
              "    </tr>\n",
              "    <tr>\n",
              "      <th>465</th>\n",
              "      <td>8658300340</td>\n",
              "      <td>20140523T000000</td>\n",
              "      <td>80000.0</td>\n",
              "      <td>1</td>\n",
              "      <td>0.75</td>\n",
              "      <td>430</td>\n",
              "      <td>5050</td>\n",
              "      <td>1.0</td>\n",
              "      <td>0</td>\n",
              "      <td>0</td>\n",
              "      <td>2</td>\n",
              "      <td>4</td>\n",
              "      <td>430</td>\n",
              "      <td>0</td>\n",
              "      <td>1912</td>\n",
              "      <td>0</td>\n",
              "      <td>98014</td>\n",
              "      <td>47.6499</td>\n",
              "      <td>-121.909</td>\n",
              "      <td>1200</td>\n",
              "      <td>7500</td>\n",
              "    </tr>\n",
              "    <tr>\n",
              "      <th>15293</th>\n",
              "      <td>40000362</td>\n",
              "      <td>20140506T000000</td>\n",
              "      <td>78000.0</td>\n",
              "      <td>2</td>\n",
              "      <td>1.00</td>\n",
              "      <td>780</td>\n",
              "      <td>16344</td>\n",
              "      <td>1.0</td>\n",
              "      <td>0</td>\n",
              "      <td>0</td>\n",
              "      <td>1</td>\n",
              "      <td>5</td>\n",
              "      <td>780</td>\n",
              "      <td>0</td>\n",
              "      <td>1942</td>\n",
              "      <td>0</td>\n",
              "      <td>98168</td>\n",
              "      <td>47.4739</td>\n",
              "      <td>-122.280</td>\n",
              "      <td>1700</td>\n",
              "      <td>10387</td>\n",
              "    </tr>\n",
              "    <tr>\n",
              "      <th>1149</th>\n",
              "      <td>3421079032</td>\n",
              "      <td>20150217T000000</td>\n",
              "      <td>75000.0</td>\n",
              "      <td>1</td>\n",
              "      <td>0.00</td>\n",
              "      <td>670</td>\n",
              "      <td>43377</td>\n",
              "      <td>1.0</td>\n",
              "      <td>0</td>\n",
              "      <td>0</td>\n",
              "      <td>3</td>\n",
              "      <td>3</td>\n",
              "      <td>670</td>\n",
              "      <td>0</td>\n",
              "      <td>1966</td>\n",
              "      <td>0</td>\n",
              "      <td>98022</td>\n",
              "      <td>47.2638</td>\n",
              "      <td>-121.906</td>\n",
              "      <td>1160</td>\n",
              "      <td>42882</td>\n",
              "    </tr>\n",
              "  </tbody>\n",
              "</table>\n",
              "<p>21613 rows × 21 columns</p>\n",
              "</div>"
            ],
            "text/plain": [
              "               id             date  ...  sqft_living15  sqft_lot15\n",
              "7252   6762700020  20141013T000000  ...           3940        8800\n",
              "3914   9808700762  20140611T000000  ...           3930       25449\n",
              "9254   9208900037  20140919T000000  ...           4540       42730\n",
              "4411   2470100110  20140804T000000  ...           3560       24345\n",
              "1448   8907500070  20150413T000000  ...           4600       21750\n",
              "...           ...              ...  ...            ...         ...\n",
              "8274   3883800011  20141105T000000  ...           1140       11250\n",
              "16198  3028200080  20150324T000000  ...            860        9000\n",
              "465    8658300340  20140523T000000  ...           1200        7500\n",
              "15293    40000362  20140506T000000  ...           1700       10387\n",
              "1149   3421079032  20150217T000000  ...           1160       42882\n",
              "\n",
              "[21613 rows x 21 columns]"
            ]
          },
          "metadata": {
            "tags": []
          },
          "execution_count": 9
        }
      ]
    },
    {
      "cell_type": "markdown",
      "metadata": {
        "id": "8gFcyDX0cBPx"
      },
      "source": [
        "## 5. Qual a casa com o maior número de quartos?\r\n",
        "R: Casa ID 2402100895"
      ]
    },
    {
      "cell_type": "code",
      "metadata": {
        "colab": {
          "base_uri": "https://localhost:8080/",
          "height": 439
        },
        "id": "60oQbA_tcKoK",
        "outputId": "366b4a39-ac6f-4031-9fc4-183263df94da"
      },
      "source": [
        "df.sort_values('bedrooms', ascending=False)"
      ],
      "execution_count": null,
      "outputs": [
        {
          "output_type": "execute_result",
          "data": {
            "text/html": [
              "<div>\n",
              "<style scoped>\n",
              "    .dataframe tbody tr th:only-of-type {\n",
              "        vertical-align: middle;\n",
              "    }\n",
              "\n",
              "    .dataframe tbody tr th {\n",
              "        vertical-align: top;\n",
              "    }\n",
              "\n",
              "    .dataframe thead th {\n",
              "        text-align: right;\n",
              "    }\n",
              "</style>\n",
              "<table border=\"1\" class=\"dataframe\">\n",
              "  <thead>\n",
              "    <tr style=\"text-align: right;\">\n",
              "      <th></th>\n",
              "      <th>id</th>\n",
              "      <th>date</th>\n",
              "      <th>price</th>\n",
              "      <th>bedrooms</th>\n",
              "      <th>bathrooms</th>\n",
              "      <th>sqft_living</th>\n",
              "      <th>sqft_lot</th>\n",
              "      <th>floors</th>\n",
              "      <th>waterfront</th>\n",
              "      <th>view</th>\n",
              "      <th>condition</th>\n",
              "      <th>grade</th>\n",
              "      <th>sqft_above</th>\n",
              "      <th>sqft_basement</th>\n",
              "      <th>yr_built</th>\n",
              "      <th>yr_renovated</th>\n",
              "      <th>zipcode</th>\n",
              "      <th>lat</th>\n",
              "      <th>long</th>\n",
              "      <th>sqft_living15</th>\n",
              "      <th>sqft_lot15</th>\n",
              "    </tr>\n",
              "  </thead>\n",
              "  <tbody>\n",
              "    <tr>\n",
              "      <th>15870</th>\n",
              "      <td>2402100895</td>\n",
              "      <td>20140625T000000</td>\n",
              "      <td>640000.0</td>\n",
              "      <td>33</td>\n",
              "      <td>1.75</td>\n",
              "      <td>1620</td>\n",
              "      <td>6000</td>\n",
              "      <td>1.0</td>\n",
              "      <td>0</td>\n",
              "      <td>0</td>\n",
              "      <td>5</td>\n",
              "      <td>7</td>\n",
              "      <td>1040</td>\n",
              "      <td>580</td>\n",
              "      <td>1947</td>\n",
              "      <td>0</td>\n",
              "      <td>98103</td>\n",
              "      <td>47.6878</td>\n",
              "      <td>-122.331</td>\n",
              "      <td>1330</td>\n",
              "      <td>4700</td>\n",
              "    </tr>\n",
              "    <tr>\n",
              "      <th>8757</th>\n",
              "      <td>1773100755</td>\n",
              "      <td>20140821T000000</td>\n",
              "      <td>520000.0</td>\n",
              "      <td>11</td>\n",
              "      <td>3.00</td>\n",
              "      <td>3000</td>\n",
              "      <td>4960</td>\n",
              "      <td>2.0</td>\n",
              "      <td>0</td>\n",
              "      <td>0</td>\n",
              "      <td>3</td>\n",
              "      <td>7</td>\n",
              "      <td>2400</td>\n",
              "      <td>600</td>\n",
              "      <td>1918</td>\n",
              "      <td>1999</td>\n",
              "      <td>98106</td>\n",
              "      <td>47.5560</td>\n",
              "      <td>-122.363</td>\n",
              "      <td>1420</td>\n",
              "      <td>4960</td>\n",
              "    </tr>\n",
              "    <tr>\n",
              "      <th>15161</th>\n",
              "      <td>5566100170</td>\n",
              "      <td>20141029T000000</td>\n",
              "      <td>650000.0</td>\n",
              "      <td>10</td>\n",
              "      <td>2.00</td>\n",
              "      <td>3610</td>\n",
              "      <td>11914</td>\n",
              "      <td>2.0</td>\n",
              "      <td>0</td>\n",
              "      <td>0</td>\n",
              "      <td>4</td>\n",
              "      <td>7</td>\n",
              "      <td>3010</td>\n",
              "      <td>600</td>\n",
              "      <td>1958</td>\n",
              "      <td>0</td>\n",
              "      <td>98006</td>\n",
              "      <td>47.5705</td>\n",
              "      <td>-122.175</td>\n",
              "      <td>2040</td>\n",
              "      <td>11914</td>\n",
              "    </tr>\n",
              "    <tr>\n",
              "      <th>13314</th>\n",
              "      <td>627300145</td>\n",
              "      <td>20140814T000000</td>\n",
              "      <td>1148000.0</td>\n",
              "      <td>10</td>\n",
              "      <td>5.25</td>\n",
              "      <td>4590</td>\n",
              "      <td>10920</td>\n",
              "      <td>1.0</td>\n",
              "      <td>0</td>\n",
              "      <td>2</td>\n",
              "      <td>3</td>\n",
              "      <td>9</td>\n",
              "      <td>2500</td>\n",
              "      <td>2090</td>\n",
              "      <td>2008</td>\n",
              "      <td>0</td>\n",
              "      <td>98004</td>\n",
              "      <td>47.5861</td>\n",
              "      <td>-122.113</td>\n",
              "      <td>2730</td>\n",
              "      <td>10400</td>\n",
              "    </tr>\n",
              "    <tr>\n",
              "      <th>19254</th>\n",
              "      <td>8812401450</td>\n",
              "      <td>20141229T000000</td>\n",
              "      <td>660000.0</td>\n",
              "      <td>10</td>\n",
              "      <td>3.00</td>\n",
              "      <td>2920</td>\n",
              "      <td>3745</td>\n",
              "      <td>2.0</td>\n",
              "      <td>0</td>\n",
              "      <td>0</td>\n",
              "      <td>4</td>\n",
              "      <td>7</td>\n",
              "      <td>1860</td>\n",
              "      <td>1060</td>\n",
              "      <td>1913</td>\n",
              "      <td>0</td>\n",
              "      <td>98105</td>\n",
              "      <td>47.6635</td>\n",
              "      <td>-122.320</td>\n",
              "      <td>1810</td>\n",
              "      <td>3745</td>\n",
              "    </tr>\n",
              "    <tr>\n",
              "      <th>...</th>\n",
              "      <td>...</td>\n",
              "      <td>...</td>\n",
              "      <td>...</td>\n",
              "      <td>...</td>\n",
              "      <td>...</td>\n",
              "      <td>...</td>\n",
              "      <td>...</td>\n",
              "      <td>...</td>\n",
              "      <td>...</td>\n",
              "      <td>...</td>\n",
              "      <td>...</td>\n",
              "      <td>...</td>\n",
              "      <td>...</td>\n",
              "      <td>...</td>\n",
              "      <td>...</td>\n",
              "      <td>...</td>\n",
              "      <td>...</td>\n",
              "      <td>...</td>\n",
              "      <td>...</td>\n",
              "      <td>...</td>\n",
              "      <td>...</td>\n",
              "    </tr>\n",
              "    <tr>\n",
              "      <th>19452</th>\n",
              "      <td>3980300371</td>\n",
              "      <td>20140926T000000</td>\n",
              "      <td>142000.0</td>\n",
              "      <td>0</td>\n",
              "      <td>0.00</td>\n",
              "      <td>290</td>\n",
              "      <td>20875</td>\n",
              "      <td>1.0</td>\n",
              "      <td>0</td>\n",
              "      <td>0</td>\n",
              "      <td>1</td>\n",
              "      <td>1</td>\n",
              "      <td>290</td>\n",
              "      <td>0</td>\n",
              "      <td>1963</td>\n",
              "      <td>0</td>\n",
              "      <td>98024</td>\n",
              "      <td>47.5308</td>\n",
              "      <td>-121.888</td>\n",
              "      <td>1620</td>\n",
              "      <td>22850</td>\n",
              "    </tr>\n",
              "    <tr>\n",
              "      <th>8484</th>\n",
              "      <td>2310060040</td>\n",
              "      <td>20140925T000000</td>\n",
              "      <td>240000.0</td>\n",
              "      <td>0</td>\n",
              "      <td>2.50</td>\n",
              "      <td>1810</td>\n",
              "      <td>5669</td>\n",
              "      <td>2.0</td>\n",
              "      <td>0</td>\n",
              "      <td>0</td>\n",
              "      <td>3</td>\n",
              "      <td>7</td>\n",
              "      <td>1810</td>\n",
              "      <td>0</td>\n",
              "      <td>2003</td>\n",
              "      <td>0</td>\n",
              "      <td>98038</td>\n",
              "      <td>47.3493</td>\n",
              "      <td>-122.053</td>\n",
              "      <td>1810</td>\n",
              "      <td>5685</td>\n",
              "    </tr>\n",
              "    <tr>\n",
              "      <th>875</th>\n",
              "      <td>6306400140</td>\n",
              "      <td>20140612T000000</td>\n",
              "      <td>1095000.0</td>\n",
              "      <td>0</td>\n",
              "      <td>0.00</td>\n",
              "      <td>3064</td>\n",
              "      <td>4764</td>\n",
              "      <td>3.5</td>\n",
              "      <td>0</td>\n",
              "      <td>2</td>\n",
              "      <td>3</td>\n",
              "      <td>7</td>\n",
              "      <td>3064</td>\n",
              "      <td>0</td>\n",
              "      <td>1990</td>\n",
              "      <td>0</td>\n",
              "      <td>98102</td>\n",
              "      <td>47.6362</td>\n",
              "      <td>-122.322</td>\n",
              "      <td>2360</td>\n",
              "      <td>4000</td>\n",
              "    </tr>\n",
              "    <tr>\n",
              "      <th>8477</th>\n",
              "      <td>2569500210</td>\n",
              "      <td>20141117T000000</td>\n",
              "      <td>339950.0</td>\n",
              "      <td>0</td>\n",
              "      <td>2.50</td>\n",
              "      <td>2290</td>\n",
              "      <td>8319</td>\n",
              "      <td>2.0</td>\n",
              "      <td>0</td>\n",
              "      <td>0</td>\n",
              "      <td>3</td>\n",
              "      <td>8</td>\n",
              "      <td>2290</td>\n",
              "      <td>0</td>\n",
              "      <td>1985</td>\n",
              "      <td>0</td>\n",
              "      <td>98042</td>\n",
              "      <td>47.3473</td>\n",
              "      <td>-122.151</td>\n",
              "      <td>2500</td>\n",
              "      <td>8751</td>\n",
              "    </tr>\n",
              "    <tr>\n",
              "      <th>9773</th>\n",
              "      <td>3374500520</td>\n",
              "      <td>20150429T000000</td>\n",
              "      <td>355000.0</td>\n",
              "      <td>0</td>\n",
              "      <td>0.00</td>\n",
              "      <td>2460</td>\n",
              "      <td>8049</td>\n",
              "      <td>2.0</td>\n",
              "      <td>0</td>\n",
              "      <td>0</td>\n",
              "      <td>3</td>\n",
              "      <td>8</td>\n",
              "      <td>2460</td>\n",
              "      <td>0</td>\n",
              "      <td>1990</td>\n",
              "      <td>0</td>\n",
              "      <td>98031</td>\n",
              "      <td>47.4095</td>\n",
              "      <td>-122.168</td>\n",
              "      <td>2520</td>\n",
              "      <td>8050</td>\n",
              "    </tr>\n",
              "  </tbody>\n",
              "</table>\n",
              "<p>21613 rows × 21 columns</p>\n",
              "</div>"
            ],
            "text/plain": [
              "               id             date  ...  sqft_living15  sqft_lot15\n",
              "15870  2402100895  20140625T000000  ...           1330        4700\n",
              "8757   1773100755  20140821T000000  ...           1420        4960\n",
              "15161  5566100170  20141029T000000  ...           2040       11914\n",
              "13314   627300145  20140814T000000  ...           2730       10400\n",
              "19254  8812401450  20141229T000000  ...           1810        3745\n",
              "...           ...              ...  ...            ...         ...\n",
              "19452  3980300371  20140926T000000  ...           1620       22850\n",
              "8484   2310060040  20140925T000000  ...           1810        5685\n",
              "875    6306400140  20140612T000000  ...           2360        4000\n",
              "8477   2569500210  20141117T000000  ...           2500        8751\n",
              "9773   3374500520  20150429T000000  ...           2520        8050\n",
              "\n",
              "[21613 rows x 21 columns]"
            ]
          },
          "metadata": {
            "tags": []
          },
          "execution_count": 10
        }
      ]
    },
    {
      "cell_type": "markdown",
      "metadata": {
        "id": "CqII11sPcq6Z"
      },
      "source": [
        "## 6. Qual a soma total de quartos do conjunto de dados?\r\n",
        "R:72.854 bedrooms"
      ]
    },
    {
      "cell_type": "code",
      "metadata": {
        "colab": {
          "base_uri": "https://localhost:8080/"
        },
        "id": "W5ezfANNeuxH",
        "outputId": "80804f4c-3fda-421b-b0ea-ba2bb8e7bec4"
      },
      "source": [
        "df[['bedrooms']].sum()"
      ],
      "execution_count": null,
      "outputs": [
        {
          "output_type": "execute_result",
          "data": {
            "text/plain": [
              "bedrooms    72854\n",
              "dtype: int64"
            ]
          },
          "metadata": {
            "tags": []
          },
          "execution_count": 11
        }
      ]
    },
    {
      "cell_type": "markdown",
      "metadata": {
        "id": "9RDxzNm_hbzk"
      },
      "source": [
        "## 7. Quantas casas possuem 2 banheiros?\r\n",
        "R:1930 casas"
      ]
    },
    {
      "cell_type": "code",
      "metadata": {
        "colab": {
          "base_uri": "https://localhost:8080/"
        },
        "id": "7tMnh26nhhck",
        "outputId": "83e4a22e-3192-4524-9177-d8f2dc4d55b2"
      },
      "source": [
        "two_bath_house = df.loc[df['bathrooms'] == 2]\r\n",
        "two_bath_house.shape"
      ],
      "execution_count": null,
      "outputs": [
        {
          "output_type": "execute_result",
          "data": {
            "text/plain": [
              "(1930, 21)"
            ]
          },
          "metadata": {
            "tags": []
          },
          "execution_count": 12
        }
      ]
    },
    {
      "cell_type": "markdown",
      "metadata": {
        "id": "kOaempTWq4Qy"
      },
      "source": [
        "## 8. Qual o  preço médio de todas as casas no conjunto dado?\r\n",
        "R:A média do preço das casas é $540.088,14."
      ]
    },
    {
      "cell_type": "code",
      "metadata": {
        "colab": {
          "base_uri": "https://localhost:8080/"
        },
        "id": "K4WcvF3NrHSX",
        "outputId": "379747fe-f889-4008-a8fc-8c48d862ab5c"
      },
      "source": [
        "df[['price']].mean()"
      ],
      "execution_count": null,
      "outputs": [
        {
          "output_type": "execute_result",
          "data": {
            "text/plain": [
              "price    540088.141767\n",
              "dtype: float64"
            ]
          },
          "metadata": {
            "tags": []
          },
          "execution_count": 13
        }
      ]
    },
    {
      "cell_type": "markdown",
      "metadata": {
        "id": "A_24vZCcslpS"
      },
      "source": [
        "## 9. Qual o preço médio de casas com 2 banheiros?\r\n",
        "R: A média do preço das casas com dois banheiros é  $ 457.889.71."
      ]
    },
    {
      "cell_type": "code",
      "metadata": {
        "colab": {
          "base_uri": "https://localhost:8080/"
        },
        "id": "9DC3jq_DsoVZ",
        "outputId": "1418265a-d07a-4459-f336-eafdb081d83c"
      },
      "source": [
        "two_bath_house[['price']].mean()\r\n"
      ],
      "execution_count": null,
      "outputs": [
        {
          "output_type": "execute_result",
          "data": {
            "text/plain": [
              "price    457889.718653\n",
              "dtype: float64"
            ]
          },
          "metadata": {
            "tags": []
          },
          "execution_count": 14
        }
      ]
    },
    {
      "cell_type": "markdown",
      "metadata": {
        "id": "y4TTRirPtHXy"
      },
      "source": [
        "## 10. Qual o preço mínimo entre as casas com 3 quartos?\r\n",
        "R:Das casas com 3 quartos, a mais barata custa $82.000."
      ]
    },
    {
      "cell_type": "code",
      "metadata": {
        "colab": {
          "base_uri": "https://localhost:8080/"
        },
        "id": "dirFpdD1tJSz",
        "outputId": "8039d215-cee6-42b5-8662-599582f76157"
      },
      "source": [
        "tree_bedr_house = df.loc[df['bedrooms'] == 3]\r\n",
        "tree_bedr_house['price'].min()"
      ],
      "execution_count": null,
      "outputs": [
        {
          "output_type": "execute_result",
          "data": {
            "text/plain": [
              "82000.0"
            ]
          },
          "metadata": {
            "tags": []
          },
          "execution_count": 26
        }
      ]
    },
    {
      "cell_type": "markdown",
      "metadata": {
        "id": "g4K38984t-x6"
      },
      "source": [
        "## 11. Quantas casas possuem mais de 300 metros quadrados na sala de estar?\r\n",
        "R:2141 casas"
      ]
    },
    {
      "cell_type": "code",
      "metadata": {
        "colab": {
          "base_uri": "https://localhost:8080/",
          "height": 439
        },
        "id": "Hv03jbY6uCSR",
        "outputId": "1f043b14-2f97-4d28-b54c-499eb2767a4d"
      },
      "source": [
        "df['m2_living'] = df['sqft_living'] * 0.092\r\n",
        "df[df['m2_living'] > 300]\r\n",
        "\r\n"
      ],
      "execution_count": null,
      "outputs": [
        {
          "output_type": "execute_result",
          "data": {
            "text/html": [
              "<div>\n",
              "<style scoped>\n",
              "    .dataframe tbody tr th:only-of-type {\n",
              "        vertical-align: middle;\n",
              "    }\n",
              "\n",
              "    .dataframe tbody tr th {\n",
              "        vertical-align: top;\n",
              "    }\n",
              "\n",
              "    .dataframe thead th {\n",
              "        text-align: right;\n",
              "    }\n",
              "</style>\n",
              "<table border=\"1\" class=\"dataframe\">\n",
              "  <thead>\n",
              "    <tr style=\"text-align: right;\">\n",
              "      <th></th>\n",
              "      <th>id</th>\n",
              "      <th>date</th>\n",
              "      <th>price</th>\n",
              "      <th>bedrooms</th>\n",
              "      <th>bathrooms</th>\n",
              "      <th>sqft_living</th>\n",
              "      <th>sqft_lot</th>\n",
              "      <th>floors</th>\n",
              "      <th>waterfront</th>\n",
              "      <th>view</th>\n",
              "      <th>condition</th>\n",
              "      <th>grade</th>\n",
              "      <th>sqft_above</th>\n",
              "      <th>sqft_basement</th>\n",
              "      <th>yr_built</th>\n",
              "      <th>yr_renovated</th>\n",
              "      <th>zipcode</th>\n",
              "      <th>lat</th>\n",
              "      <th>long</th>\n",
              "      <th>sqft_living15</th>\n",
              "      <th>sqft_lot15</th>\n",
              "      <th>m2_living</th>\n",
              "    </tr>\n",
              "  </thead>\n",
              "  <tbody>\n",
              "    <tr>\n",
              "      <th>5</th>\n",
              "      <td>7237550310</td>\n",
              "      <td>20140512T000000</td>\n",
              "      <td>1225000.0</td>\n",
              "      <td>4</td>\n",
              "      <td>4.50</td>\n",
              "      <td>5420</td>\n",
              "      <td>101930</td>\n",
              "      <td>1.0</td>\n",
              "      <td>0</td>\n",
              "      <td>0</td>\n",
              "      <td>3</td>\n",
              "      <td>11</td>\n",
              "      <td>3890</td>\n",
              "      <td>1530</td>\n",
              "      <td>2001</td>\n",
              "      <td>0</td>\n",
              "      <td>98053</td>\n",
              "      <td>47.6561</td>\n",
              "      <td>-122.005</td>\n",
              "      <td>4760</td>\n",
              "      <td>101930</td>\n",
              "      <td>498.64</td>\n",
              "    </tr>\n",
              "    <tr>\n",
              "      <th>10</th>\n",
              "      <td>1736800520</td>\n",
              "      <td>20150403T000000</td>\n",
              "      <td>662500.0</td>\n",
              "      <td>3</td>\n",
              "      <td>2.50</td>\n",
              "      <td>3560</td>\n",
              "      <td>9796</td>\n",
              "      <td>1.0</td>\n",
              "      <td>0</td>\n",
              "      <td>0</td>\n",
              "      <td>3</td>\n",
              "      <td>8</td>\n",
              "      <td>1860</td>\n",
              "      <td>1700</td>\n",
              "      <td>1965</td>\n",
              "      <td>0</td>\n",
              "      <td>98007</td>\n",
              "      <td>47.6007</td>\n",
              "      <td>-122.145</td>\n",
              "      <td>2210</td>\n",
              "      <td>8925</td>\n",
              "      <td>327.52</td>\n",
              "    </tr>\n",
              "    <tr>\n",
              "      <th>41</th>\n",
              "      <td>7766200013</td>\n",
              "      <td>20140811T000000</td>\n",
              "      <td>775000.0</td>\n",
              "      <td>4</td>\n",
              "      <td>2.25</td>\n",
              "      <td>4220</td>\n",
              "      <td>24186</td>\n",
              "      <td>1.0</td>\n",
              "      <td>0</td>\n",
              "      <td>0</td>\n",
              "      <td>3</td>\n",
              "      <td>8</td>\n",
              "      <td>2600</td>\n",
              "      <td>1620</td>\n",
              "      <td>1984</td>\n",
              "      <td>0</td>\n",
              "      <td>98166</td>\n",
              "      <td>47.4450</td>\n",
              "      <td>-122.347</td>\n",
              "      <td>2410</td>\n",
              "      <td>30617</td>\n",
              "      <td>388.24</td>\n",
              "    </tr>\n",
              "    <tr>\n",
              "      <th>42</th>\n",
              "      <td>7203220400</td>\n",
              "      <td>20140707T000000</td>\n",
              "      <td>861990.0</td>\n",
              "      <td>5</td>\n",
              "      <td>2.75</td>\n",
              "      <td>3595</td>\n",
              "      <td>5639</td>\n",
              "      <td>2.0</td>\n",
              "      <td>0</td>\n",
              "      <td>0</td>\n",
              "      <td>3</td>\n",
              "      <td>9</td>\n",
              "      <td>3595</td>\n",
              "      <td>0</td>\n",
              "      <td>2014</td>\n",
              "      <td>0</td>\n",
              "      <td>98053</td>\n",
              "      <td>47.6848</td>\n",
              "      <td>-122.016</td>\n",
              "      <td>3625</td>\n",
              "      <td>5639</td>\n",
              "      <td>330.74</td>\n",
              "    </tr>\n",
              "    <tr>\n",
              "      <th>70</th>\n",
              "      <td>1525059190</td>\n",
              "      <td>20140912T000000</td>\n",
              "      <td>1040000.0</td>\n",
              "      <td>5</td>\n",
              "      <td>3.25</td>\n",
              "      <td>4770</td>\n",
              "      <td>50094</td>\n",
              "      <td>1.0</td>\n",
              "      <td>0</td>\n",
              "      <td>0</td>\n",
              "      <td>4</td>\n",
              "      <td>11</td>\n",
              "      <td>3070</td>\n",
              "      <td>1700</td>\n",
              "      <td>1973</td>\n",
              "      <td>0</td>\n",
              "      <td>98005</td>\n",
              "      <td>47.6525</td>\n",
              "      <td>-122.160</td>\n",
              "      <td>3530</td>\n",
              "      <td>38917</td>\n",
              "      <td>438.84</td>\n",
              "    </tr>\n",
              "    <tr>\n",
              "      <th>...</th>\n",
              "      <td>...</td>\n",
              "      <td>...</td>\n",
              "      <td>...</td>\n",
              "      <td>...</td>\n",
              "      <td>...</td>\n",
              "      <td>...</td>\n",
              "      <td>...</td>\n",
              "      <td>...</td>\n",
              "      <td>...</td>\n",
              "      <td>...</td>\n",
              "      <td>...</td>\n",
              "      <td>...</td>\n",
              "      <td>...</td>\n",
              "      <td>...</td>\n",
              "      <td>...</td>\n",
              "      <td>...</td>\n",
              "      <td>...</td>\n",
              "      <td>...</td>\n",
              "      <td>...</td>\n",
              "      <td>...</td>\n",
              "      <td>...</td>\n",
              "      <td>...</td>\n",
              "    </tr>\n",
              "    <tr>\n",
              "      <th>21596</th>\n",
              "      <td>7502800100</td>\n",
              "      <td>20140813T000000</td>\n",
              "      <td>679950.0</td>\n",
              "      <td>5</td>\n",
              "      <td>2.75</td>\n",
              "      <td>3600</td>\n",
              "      <td>9437</td>\n",
              "      <td>2.0</td>\n",
              "      <td>0</td>\n",
              "      <td>0</td>\n",
              "      <td>3</td>\n",
              "      <td>9</td>\n",
              "      <td>3600</td>\n",
              "      <td>0</td>\n",
              "      <td>2014</td>\n",
              "      <td>0</td>\n",
              "      <td>98059</td>\n",
              "      <td>47.4822</td>\n",
              "      <td>-122.131</td>\n",
              "      <td>3550</td>\n",
              "      <td>9421</td>\n",
              "      <td>331.20</td>\n",
              "    </tr>\n",
              "    <tr>\n",
              "      <th>21597</th>\n",
              "      <td>191100405</td>\n",
              "      <td>20150421T000000</td>\n",
              "      <td>1575000.0</td>\n",
              "      <td>4</td>\n",
              "      <td>3.25</td>\n",
              "      <td>3410</td>\n",
              "      <td>10125</td>\n",
              "      <td>2.0</td>\n",
              "      <td>0</td>\n",
              "      <td>0</td>\n",
              "      <td>3</td>\n",
              "      <td>10</td>\n",
              "      <td>3410</td>\n",
              "      <td>0</td>\n",
              "      <td>2007</td>\n",
              "      <td>0</td>\n",
              "      <td>98040</td>\n",
              "      <td>47.5653</td>\n",
              "      <td>-122.223</td>\n",
              "      <td>2290</td>\n",
              "      <td>10125</td>\n",
              "      <td>313.72</td>\n",
              "    </tr>\n",
              "    <tr>\n",
              "      <th>21599</th>\n",
              "      <td>7202300110</td>\n",
              "      <td>20140915T000000</td>\n",
              "      <td>810000.0</td>\n",
              "      <td>4</td>\n",
              "      <td>3.00</td>\n",
              "      <td>3990</td>\n",
              "      <td>7838</td>\n",
              "      <td>2.0</td>\n",
              "      <td>0</td>\n",
              "      <td>0</td>\n",
              "      <td>3</td>\n",
              "      <td>9</td>\n",
              "      <td>3990</td>\n",
              "      <td>0</td>\n",
              "      <td>2003</td>\n",
              "      <td>0</td>\n",
              "      <td>98053</td>\n",
              "      <td>47.6857</td>\n",
              "      <td>-122.046</td>\n",
              "      <td>3370</td>\n",
              "      <td>6814</td>\n",
              "      <td>367.08</td>\n",
              "    </tr>\n",
              "    <tr>\n",
              "      <th>21600</th>\n",
              "      <td>249000205</td>\n",
              "      <td>20141015T000000</td>\n",
              "      <td>1537000.0</td>\n",
              "      <td>5</td>\n",
              "      <td>3.75</td>\n",
              "      <td>4470</td>\n",
              "      <td>8088</td>\n",
              "      <td>2.0</td>\n",
              "      <td>0</td>\n",
              "      <td>0</td>\n",
              "      <td>3</td>\n",
              "      <td>11</td>\n",
              "      <td>4470</td>\n",
              "      <td>0</td>\n",
              "      <td>2008</td>\n",
              "      <td>0</td>\n",
              "      <td>98004</td>\n",
              "      <td>47.6321</td>\n",
              "      <td>-122.200</td>\n",
              "      <td>2780</td>\n",
              "      <td>8964</td>\n",
              "      <td>411.24</td>\n",
              "    </tr>\n",
              "    <tr>\n",
              "      <th>21606</th>\n",
              "      <td>7936000429</td>\n",
              "      <td>20150326T000000</td>\n",
              "      <td>1007500.0</td>\n",
              "      <td>4</td>\n",
              "      <td>3.50</td>\n",
              "      <td>3510</td>\n",
              "      <td>7200</td>\n",
              "      <td>2.0</td>\n",
              "      <td>0</td>\n",
              "      <td>0</td>\n",
              "      <td>3</td>\n",
              "      <td>9</td>\n",
              "      <td>2600</td>\n",
              "      <td>910</td>\n",
              "      <td>2009</td>\n",
              "      <td>0</td>\n",
              "      <td>98136</td>\n",
              "      <td>47.5537</td>\n",
              "      <td>-122.398</td>\n",
              "      <td>2050</td>\n",
              "      <td>6200</td>\n",
              "      <td>322.92</td>\n",
              "    </tr>\n",
              "  </tbody>\n",
              "</table>\n",
              "<p>2141 rows × 22 columns</p>\n",
              "</div>"
            ],
            "text/plain": [
              "               id             date  ...  sqft_lot15  m2_living\n",
              "5      7237550310  20140512T000000  ...      101930     498.64\n",
              "10     1736800520  20150403T000000  ...        8925     327.52\n",
              "41     7766200013  20140811T000000  ...       30617     388.24\n",
              "42     7203220400  20140707T000000  ...        5639     330.74\n",
              "70     1525059190  20140912T000000  ...       38917     438.84\n",
              "...           ...              ...  ...         ...        ...\n",
              "21596  7502800100  20140813T000000  ...        9421     331.20\n",
              "21597   191100405  20150421T000000  ...       10125     313.72\n",
              "21599  7202300110  20140915T000000  ...        6814     367.08\n",
              "21600   249000205  20141015T000000  ...        8964     411.24\n",
              "21606  7936000429  20150326T000000  ...        6200     322.92\n",
              "\n",
              "[2141 rows x 22 columns]"
            ]
          },
          "metadata": {
            "tags": []
          },
          "execution_count": 81
        }
      ]
    },
    {
      "cell_type": "code",
      "metadata": {
        "id": "DuD3VoBD6oJ8"
      },
      "source": [
        ""
      ],
      "execution_count": null,
      "outputs": []
    },
    {
      "cell_type": "markdown",
      "metadata": {
        "id": "ognLdndf70gl"
      },
      "source": [
        "## 12. Quantas casas tem mais de 2 andares\r\n",
        "R: 782 casas\r\n"
      ]
    },
    {
      "cell_type": "code",
      "metadata": {
        "colab": {
          "base_uri": "https://localhost:8080/"
        },
        "id": "gQIFyWxk76YT",
        "outputId": "705e4b18-03bb-4274-b17a-f43ad5efc591"
      },
      "source": [
        "df.loc[df['floors'] > 2].shape[0]\r\n",
        "\r\n"
      ],
      "execution_count": null,
      "outputs": [
        {
          "output_type": "execute_result",
          "data": {
            "text/plain": [
              "782"
            ]
          },
          "metadata": {
            "tags": []
          },
          "execution_count": 17
        }
      ]
    },
    {
      "cell_type": "markdown",
      "metadata": {
        "id": "HunrwzrIHdQG"
      },
      "source": [
        "## 13. Quantas casas tem vista para o mar?\r\n",
        "R:163 casas tem vista para o mar"
      ]
    },
    {
      "cell_type": "code",
      "metadata": {
        "id": "Ebxa_vQbHjjl"
      },
      "source": [
        "waterfront_houses = df[df['waterfront'] == 1]\r\n",
        "\r\n"
      ],
      "execution_count": null,
      "outputs": []
    },
    {
      "cell_type": "markdown",
      "metadata": {
        "id": "FOb2vjm9IFCd"
      },
      "source": [
        "## 14. Das casas com vista pro mar, quantas tem 3 quartos?\r\n",
        "R: 64 casas"
      ]
    },
    {
      "cell_type": "code",
      "metadata": {
        "colab": {
          "base_uri": "https://localhost:8080/"
        },
        "id": "kxJscyP9dJOC",
        "outputId": "9f601a87-cc3e-4f3f-ca5c-bf4f6f5c9211"
      },
      "source": [
        "waterfront_houses.loc[waterfront_houses['bedrooms'] == 3]\r\n",
        "waterfront_houses.shape[0]"
      ],
      "execution_count": null,
      "outputs": [
        {
          "output_type": "execute_result",
          "data": {
            "text/plain": [
              "163"
            ]
          },
          "metadata": {
            "tags": []
          },
          "execution_count": 73
        }
      ]
    },
    {
      "cell_type": "markdown",
      "metadata": {
        "id": "E4P_D9hxdxbz"
      },
      "source": [
        "## 15. Das casas com mais de 300 metros quadrados de sala de estar quantas tem mais de 2 banheiros?\r\n",
        "R: 2088 casas\r\n"
      ]
    },
    {
      "cell_type": "code",
      "metadata": {
        "colab": {
          "base_uri": "https://localhost:8080/"
        },
        "id": "UozqQDWceLyr",
        "outputId": "1310b1c0-5c52-4807-ce87-dbc26ab6b3ca"
      },
      "source": [
        " # Chamando um pedaço da tabela\r\n",
        " df_bath_m2_living = df[['bathrooms', 'sqft_living']]\r\n",
        " # Convertendo pra metro quadrado\r\n",
        "df_bath_m2_living['sqft_living'] = df_bath_m2_living['sqft_living'].apply(lambda x: x * 0.092)\r\n",
        "# Identificando casas com mais de 300m2\r\n",
        "df_bath_m2_living_more_300 = df_bath_m2_living.loc[df_bath_m2_living['sqft_living'] > 300]\r\n",
        "#Identificando casas com mais de 300m2 e mais de 2 banheiros\r\n",
        "df_bath_m2_living_more_300.loc[df_bath_m2_living_more_300['bathrooms']>2].shape[0]"
      ],
      "execution_count": null,
      "outputs": [
        {
          "output_type": "stream",
          "text": [
            "/usr/local/lib/python3.6/dist-packages/ipykernel_launcher.py:4: SettingWithCopyWarning: \n",
            "A value is trying to be set on a copy of a slice from a DataFrame.\n",
            "Try using .loc[row_indexer,col_indexer] = value instead\n",
            "\n",
            "See the caveats in the documentation: https://pandas.pydata.org/pandas-docs/stable/user_guide/indexing.html#returning-a-view-versus-a-copy\n",
            "  after removing the cwd from sys.path.\n"
          ],
          "name": "stderr"
        },
        {
          "output_type": "execute_result",
          "data": {
            "text/plain": [
              "2088"
            ]
          },
          "metadata": {
            "tags": []
          },
          "execution_count": 131
        }
      ]
    }
  ]
}